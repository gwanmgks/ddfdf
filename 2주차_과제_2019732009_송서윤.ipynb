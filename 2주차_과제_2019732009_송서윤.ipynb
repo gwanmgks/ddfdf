{
  "nbformat": 4,
  "nbformat_minor": 0,
  "metadata": {
    "colab": {
      "provenance": [],
      "include_colab_link": true
    },
    "kernelspec": {
      "name": "python3",
      "display_name": "Python 3"
    },
    "language_info": {
      "name": "python"
    }
  },
  "cells": [
    {
      "cell_type": "markdown",
      "metadata": {
        "id": "view-in-github",
        "colab_type": "text"
      },
      "source": [
        "<a href=\"https://colab.research.google.com/github/gwanmgks/ddfdf/blob/main/2%EC%A3%BC%EC%B0%A8_%EA%B3%BC%EC%A0%9C_2019732009_%EC%86%A1%EC%84%9C%EC%9C%A4.ipynb\" target=\"_parent\"><img src=\"https://colab.research.google.com/assets/colab-badge.svg\" alt=\"Open In Colab\"/></a>"
      ]
    },
    {
      "cell_type": "markdown",
      "source": [
        "####[Google Colab](https://colab.reasearch.google.com/)\n",
        "파이썬 코드를 사용할 수 있으며 MarkDown을 이용하여 텍스트를 넣을수도 있다.\n",
        "예를 들어 파이썬 코드를 입력하면"
      ],
      "metadata": {
        "id": "B1APPxqYoOlW"
      }
    },
    {
      "cell_type": "code",
      "source": [
        "print('Hellow World!')"
      ],
      "metadata": {
        "colab": {
          "base_uri": "https://localhost:8080/"
        },
        "id": "Ias_NtTQpXWQ",
        "outputId": "b2f7d85d-013d-4faa-c7ac-96c244ae55ab"
      },
      "execution_count": null,
      "outputs": [
        {
          "output_type": "stream",
          "name": "stdout",
          "text": [
            "Hellow World!\n"
          ]
        }
      ]
    },
    {
      "cell_type": "markdown",
      "source": [],
      "metadata": {
        "id": "7VvBdhF7O5DX"
      }
    },
    {
      "cell_type": "markdown",
      "source": [
        "이런식으로 값이 출력된다.  \n",
        "또한 주석 대신 텍스트 블럭을 추가하여 설명하는것이 가능하다."
      ],
      "metadata": {
        "id": "NA1FM9j_peOH"
      }
    },
    {
      "cell_type": "markdown",
      "source": [
        "####Note Book 단축키  \n",
        "더욱 편리하게 코드를 입력할때 쓰는 것으로   \n",
        "*  선택된 셀을 실행: Ctrl+Enter\n",
        "*  실행 후 다음 셀로 이동: Shift+Enter\n",
        "*  실행후 다음셀 추가: Alt+Enter  \n",
        "*  저장: Ctrl+S\n",
        "*  엔터키: 편집모드\n",
        "*  ESC: 선택모드\n",
        "*  마크다운으로 전환: Ctrl+M M\n",
        "*  코드로 전환: Ctrl+M Y  \n",
        "*  코드셀에 줄번호 부여: Crtl+M L\n",
        "*  바로 윗줄에 셀 생성: Ctrl+M A\n",
        "*  바로 아랫줄에 셀 생성: Ctrl+M B  \n",
        "*  실행 멈춤: Ctrl+M I\n",
        "*  작업을 완전종료: CTrl+M+  \n",
        "모두 외우는 것은 힘들지만 자주 쓰는 키들을 알면 작업의 효율이 달라진다.  \n",
        "\n",
        "\n",
        "\n"
      ],
      "metadata": {
        "id": "vdMmlBa1p6Wa"
      }
    },
    {
      "cell_type": "markdown",
      "source": [
        "####Mark Down  \n",
        "확장자명이 .md인 문서 파일로  \n",
        "서식 편집 언어>>coding으로 문서 작성을 한다.  \n",
        "쓰이는 것들을 살펴보면  \n",
        "**타이틀**  \n",
        " #을 씀으로 설정할 수 있으며 #의 개수가 많아질수록 글자가 작아진다.  \n",
        " ex)\n",
        " # 1\n",
        " ## 1\n",
        " ### 1\n",
        "**강조**  \n",
        " _ , * , ~ 을 이용해서 설정할 수 있으며 Colab에서는 밑줄을 설정하고 싶으면<>와 u를 이용하여 사용하면 된다.  \n",
        "ex)  \n",
        "**진하게**  \n",
        "__밑줄__  \n",
        "<u>밑줄</u>  \n",
        "~~취소~~  \n",
        "_이탤릭_  \n",
        "\n",
        "**줄바꿈**  \n",
        "입력에서는 줄바꿈을 하더라도 바뀌지가 않는다. 따라서 줄을 바꾸고싶은 부분에서 spacebar을 2번 눌러주면 된다.  \n",
        "ex)  \n",
        "딸기 사과 배\n",
        "딸기  \n",
        "사과  \n",
        "배  \n",
        "**블럭(인용)들여쓰기**  \n",
        "꺽쇠를 이용해서 쓸수 있다.  \n",
        "ex)  \n",
        "> 블럭  \n",
        ">>블럭\n",
        "  \n",
        "**Code Block**  \n",
        "입력한 부분을 코딩할때 쓰는 디자인으로 바꿔준다.  \n",
        "ex)  \n",
        "~~~python  \n",
        " import something\n",
        " a = 10\n",
        " print(a)\n",
        " if a>10:\n",
        "    print(a)\n",
        "~~~  \n",
        "\n",
        "**목록**  \n",
        "ex)  \n",
        "* 바나나  \n",
        "* 수박  \n",
        " + 딸기(tab)\n",
        " + 파인애플(tab)  \n",
        "- 포도  \n",
        "- 오렌지  \n",
        "1. 사과  \n",
        "2. 망고  \n",
        "\n",
        "**하이퍼링크**  \n",
        "ex)  \n",
        "[바로가기](http://google.com)\n",
        "<http://google.com>  \n",
        "**수평선**  \n",
        "ex)  \n",
        "***  \n",
        "수평선  \n",
        "\n",
        "\n",
        "----  \n",
        "(-를 3개 이상 써야된다.)  \n",
        "**표**  \n",
        "Mark Down 에서 만들기 까다롭긴하다.  \n",
        "따라서 Mark Down 표를 자동으로 만들어주는 기능을 가진 웹페이지를 활용하면 편하다.\n",
        "\n",
        "|1열|2열|3열|\n",
        "| :------- | ----: | :---: |\n",
        "| 왼쪽 | 오른쪽 | 가운데 |\n",
        "| 정렬하기 | 정렬하기 | 정렬하기 |\n",
        "| 테스트 | 테스트 | 테스트 |\n",
        "\n",
        "[MarkDown Table Generator](http://www.tablesgenerator.com/markdown_tables/)  \n",
        "**그림**  \n",
        "ex)  \n",
        " ![이미지설명문구](data:image/jpeg;base64,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)  \n",
        "\n",
        "**체크박스**  \n",
        "ex)  \n",
        " * [ ] 비어있는 체크박스  \n",
        " * [x] 체크된 체크박스\n",
        "\n",
        "**수식**  \n",
        "Latex 문법을 이용하면 한글이나 word 수식 편집기보다 편리하게 이용할 수 있다 자세한 내용은\n",
        "[Latex 수식](https://cheris8.github.io/etc/MD-LaTex/) 에서 확인이 가능하다.  \n",
        "ex)  \n",
        " $$\n",
        " \\begin{aligned}\n",
        "    f(x)&=ax^2+bx+c\\\\\n",
        "    g(x)&=Ax^4\n",
        "  \\end{aligned}$$\n",
        "\n",
        "문장내$\\frac{1+s}{s(s+2)}$삽입  \n",
        "$$\\frac{1+s}{s(s+2)}$$  \n",
        "\n",
        "$\\begin{matrix}1&2\\\\3&4\\\\ \\end{matrix}$\n",
        "$\\begin{pmatrix}1&2\\\\3&4\\\\ \\end{pmatrix}$\n",
        "$\\begin{bmatrix}1&2\\\\3&4\\\\ \\end{bmatrix}$\n",
        "$\\begin{Bmatrix}1&2\\\\3&4\\\\ \\end{Bmatrix}$\n",
        "$\\begin{vmatrix}1&2\\\\3&4\\\\ \\end{vmatrix}$\n",
        "$\\begin{Vmatrix}1&2\\\\3&4\\\\ \\end{Vmatrix}$"
      ],
      "metadata": {
        "id": "9BkDi1PTthum"
      }
    }
  ]
}